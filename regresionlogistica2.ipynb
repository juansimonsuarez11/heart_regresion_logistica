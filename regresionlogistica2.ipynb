{
 "cells": [
  {
   "cell_type": "markdown",
   "id": "cfceeabb-341a-4c60-8368-9cadcd6b9619",
   "metadata": {},
   "source": [
    "# Juan Simón Surez Alvarado #\n",
    "# Predicción de enfermedad cardíaca con Regresión logística #\n"
   ]
  },
  {
   "cell_type": "code",
   "execution_count": 1,
   "id": "f448bf45-a2c7-478f-915c-b4f459236b8d",
   "metadata": {},
   "outputs": [],
   "source": [
    "# Librerias necesarias \n",
    "\n",
    "import pandas as pd # Manejo y análisis de estructuras de datos\n",
    "import numpy as np # Cálculo numérico y el análisis de datos \n",
    "import seaborn as sns # Creación de gráficos estadísticos \n",
    "import matplotlib.pyplot as plt # Creación de gráficos de dos dimensiones \n",
    "\n",
    "# Librerias para implementar ciencias de datos\n",
    "\n",
    "from sklearn import metrics\n",
    "from sklearn.model_selection import train_test_split\n",
    "from sklearn.linear_model import LogisticRegression \n",
    "\n",
    "#\n",
    "from sklearn.metrics import classification_report, confusion_matrix"
   ]
  },
  {
   "cell_type": "code",
   "execution_count": 2,
   "id": "f0e35b66-fcee-48bc-9999-9a9269ce1927",
   "metadata": {},
   "outputs": [],
   "source": [
    "Datos = pd.read_csv(\"heart_cleveland_upload.csv\")"
   ]
  },
  {
   "cell_type": "code",
   "execution_count": 3,
   "id": "9063c76b-86f2-4890-b08e-cb90716a5e7f",
   "metadata": {},
   "outputs": [
    {
     "data": {
      "text/plain": [
       "(297, 14)"
      ]
     },
     "execution_count": 3,
     "metadata": {},
     "output_type": "execute_result"
    }
   ],
   "source": [
    "Datos.shape"
   ]
  },
  {
   "cell_type": "code",
   "execution_count": 4,
   "id": "763529fc-9f4a-4860-936c-de47a959aaf3",
   "metadata": {},
   "outputs": [
    {
     "data": {
      "text/html": [
       "<div>\n",
       "<style scoped>\n",
       "    .dataframe tbody tr th:only-of-type {\n",
       "        vertical-align: middle;\n",
       "    }\n",
       "\n",
       "    .dataframe tbody tr th {\n",
       "        vertical-align: top;\n",
       "    }\n",
       "\n",
       "    .dataframe thead th {\n",
       "        text-align: right;\n",
       "    }\n",
       "</style>\n",
       "<table border=\"1\" class=\"dataframe\">\n",
       "  <thead>\n",
       "    <tr style=\"text-align: right;\">\n",
       "      <th></th>\n",
       "      <th>age</th>\n",
       "      <th>sex</th>\n",
       "      <th>cp</th>\n",
       "      <th>trestbps</th>\n",
       "      <th>chol</th>\n",
       "      <th>fbs</th>\n",
       "      <th>restecg</th>\n",
       "      <th>thalach</th>\n",
       "      <th>exang</th>\n",
       "      <th>oldpeak</th>\n",
       "      <th>slope</th>\n",
       "      <th>ca</th>\n",
       "      <th>thal</th>\n",
       "      <th>condition</th>\n",
       "    </tr>\n",
       "  </thead>\n",
       "  <tbody>\n",
       "    <tr>\n",
       "      <th>0</th>\n",
       "      <td>69</td>\n",
       "      <td>1</td>\n",
       "      <td>0</td>\n",
       "      <td>160</td>\n",
       "      <td>234</td>\n",
       "      <td>1</td>\n",
       "      <td>2</td>\n",
       "      <td>131</td>\n",
       "      <td>0</td>\n",
       "      <td>0.1</td>\n",
       "      <td>1</td>\n",
       "      <td>1</td>\n",
       "      <td>0</td>\n",
       "      <td>0</td>\n",
       "    </tr>\n",
       "    <tr>\n",
       "      <th>1</th>\n",
       "      <td>69</td>\n",
       "      <td>0</td>\n",
       "      <td>0</td>\n",
       "      <td>140</td>\n",
       "      <td>239</td>\n",
       "      <td>0</td>\n",
       "      <td>0</td>\n",
       "      <td>151</td>\n",
       "      <td>0</td>\n",
       "      <td>1.8</td>\n",
       "      <td>0</td>\n",
       "      <td>2</td>\n",
       "      <td>0</td>\n",
       "      <td>0</td>\n",
       "    </tr>\n",
       "    <tr>\n",
       "      <th>2</th>\n",
       "      <td>66</td>\n",
       "      <td>0</td>\n",
       "      <td>0</td>\n",
       "      <td>150</td>\n",
       "      <td>226</td>\n",
       "      <td>0</td>\n",
       "      <td>0</td>\n",
       "      <td>114</td>\n",
       "      <td>0</td>\n",
       "      <td>2.6</td>\n",
       "      <td>2</td>\n",
       "      <td>0</td>\n",
       "      <td>0</td>\n",
       "      <td>0</td>\n",
       "    </tr>\n",
       "    <tr>\n",
       "      <th>3</th>\n",
       "      <td>65</td>\n",
       "      <td>1</td>\n",
       "      <td>0</td>\n",
       "      <td>138</td>\n",
       "      <td>282</td>\n",
       "      <td>1</td>\n",
       "      <td>2</td>\n",
       "      <td>174</td>\n",
       "      <td>0</td>\n",
       "      <td>1.4</td>\n",
       "      <td>1</td>\n",
       "      <td>1</td>\n",
       "      <td>0</td>\n",
       "      <td>1</td>\n",
       "    </tr>\n",
       "    <tr>\n",
       "      <th>4</th>\n",
       "      <td>64</td>\n",
       "      <td>1</td>\n",
       "      <td>0</td>\n",
       "      <td>110</td>\n",
       "      <td>211</td>\n",
       "      <td>0</td>\n",
       "      <td>2</td>\n",
       "      <td>144</td>\n",
       "      <td>1</td>\n",
       "      <td>1.8</td>\n",
       "      <td>1</td>\n",
       "      <td>0</td>\n",
       "      <td>0</td>\n",
       "      <td>0</td>\n",
       "    </tr>\n",
       "  </tbody>\n",
       "</table>\n",
       "</div>"
      ],
      "text/plain": [
       "   age  sex  cp  trestbps  chol  fbs  restecg  thalach  exang  oldpeak  slope  \\\n",
       "0   69    1   0       160   234    1        2      131      0      0.1      1   \n",
       "1   69    0   0       140   239    0        0      151      0      1.8      0   \n",
       "2   66    0   0       150   226    0        0      114      0      2.6      2   \n",
       "3   65    1   0       138   282    1        2      174      0      1.4      1   \n",
       "4   64    1   0       110   211    0        2      144      1      1.8      1   \n",
       "\n",
       "   ca  thal  condition  \n",
       "0   1     0          0  \n",
       "1   2     0          0  \n",
       "2   0     0          0  \n",
       "3   1     0          1  \n",
       "4   0     0          0  "
      ]
     },
     "execution_count": 4,
     "metadata": {},
     "output_type": "execute_result"
    }
   ],
   "source": [
    "Datos.head()"
   ]
  },
  {
   "cell_type": "code",
   "execution_count": 5,
   "id": "27274116-1d34-4352-a3ee-34a665b3e623",
   "metadata": {},
   "outputs": [
    {
     "data": {
      "text/html": [
       "<div>\n",
       "<style scoped>\n",
       "    .dataframe tbody tr th:only-of-type {\n",
       "        vertical-align: middle;\n",
       "    }\n",
       "\n",
       "    .dataframe tbody tr th {\n",
       "        vertical-align: top;\n",
       "    }\n",
       "\n",
       "    .dataframe thead th {\n",
       "        text-align: right;\n",
       "    }\n",
       "</style>\n",
       "<table border=\"1\" class=\"dataframe\">\n",
       "  <thead>\n",
       "    <tr style=\"text-align: right;\">\n",
       "      <th></th>\n",
       "      <th>age</th>\n",
       "      <th>sex</th>\n",
       "      <th>cp</th>\n",
       "      <th>trestbps</th>\n",
       "      <th>chol</th>\n",
       "      <th>fbs</th>\n",
       "      <th>restecg</th>\n",
       "      <th>thalach</th>\n",
       "      <th>exang</th>\n",
       "      <th>oldpeak</th>\n",
       "      <th>slope</th>\n",
       "      <th>ca</th>\n",
       "      <th>thal</th>\n",
       "      <th>condition</th>\n",
       "    </tr>\n",
       "  </thead>\n",
       "  <tbody>\n",
       "    <tr>\n",
       "      <th>count</th>\n",
       "      <td>297.000000</td>\n",
       "      <td>297.000000</td>\n",
       "      <td>297.000000</td>\n",
       "      <td>297.000000</td>\n",
       "      <td>297.000000</td>\n",
       "      <td>297.000000</td>\n",
       "      <td>297.000000</td>\n",
       "      <td>297.000000</td>\n",
       "      <td>297.000000</td>\n",
       "      <td>297.000000</td>\n",
       "      <td>297.000000</td>\n",
       "      <td>297.000000</td>\n",
       "      <td>297.000000</td>\n",
       "      <td>297.000000</td>\n",
       "    </tr>\n",
       "    <tr>\n",
       "      <th>mean</th>\n",
       "      <td>54.542088</td>\n",
       "      <td>0.676768</td>\n",
       "      <td>2.158249</td>\n",
       "      <td>131.693603</td>\n",
       "      <td>247.350168</td>\n",
       "      <td>0.144781</td>\n",
       "      <td>0.996633</td>\n",
       "      <td>149.599327</td>\n",
       "      <td>0.326599</td>\n",
       "      <td>1.055556</td>\n",
       "      <td>0.602694</td>\n",
       "      <td>0.676768</td>\n",
       "      <td>0.835017</td>\n",
       "      <td>0.461279</td>\n",
       "    </tr>\n",
       "    <tr>\n",
       "      <th>std</th>\n",
       "      <td>9.049736</td>\n",
       "      <td>0.468500</td>\n",
       "      <td>0.964859</td>\n",
       "      <td>17.762806</td>\n",
       "      <td>51.997583</td>\n",
       "      <td>0.352474</td>\n",
       "      <td>0.994914</td>\n",
       "      <td>22.941562</td>\n",
       "      <td>0.469761</td>\n",
       "      <td>1.166123</td>\n",
       "      <td>0.618187</td>\n",
       "      <td>0.938965</td>\n",
       "      <td>0.956690</td>\n",
       "      <td>0.499340</td>\n",
       "    </tr>\n",
       "    <tr>\n",
       "      <th>min</th>\n",
       "      <td>29.000000</td>\n",
       "      <td>0.000000</td>\n",
       "      <td>0.000000</td>\n",
       "      <td>94.000000</td>\n",
       "      <td>126.000000</td>\n",
       "      <td>0.000000</td>\n",
       "      <td>0.000000</td>\n",
       "      <td>71.000000</td>\n",
       "      <td>0.000000</td>\n",
       "      <td>0.000000</td>\n",
       "      <td>0.000000</td>\n",
       "      <td>0.000000</td>\n",
       "      <td>0.000000</td>\n",
       "      <td>0.000000</td>\n",
       "    </tr>\n",
       "    <tr>\n",
       "      <th>25%</th>\n",
       "      <td>48.000000</td>\n",
       "      <td>0.000000</td>\n",
       "      <td>2.000000</td>\n",
       "      <td>120.000000</td>\n",
       "      <td>211.000000</td>\n",
       "      <td>0.000000</td>\n",
       "      <td>0.000000</td>\n",
       "      <td>133.000000</td>\n",
       "      <td>0.000000</td>\n",
       "      <td>0.000000</td>\n",
       "      <td>0.000000</td>\n",
       "      <td>0.000000</td>\n",
       "      <td>0.000000</td>\n",
       "      <td>0.000000</td>\n",
       "    </tr>\n",
       "    <tr>\n",
       "      <th>50%</th>\n",
       "      <td>56.000000</td>\n",
       "      <td>1.000000</td>\n",
       "      <td>2.000000</td>\n",
       "      <td>130.000000</td>\n",
       "      <td>243.000000</td>\n",
       "      <td>0.000000</td>\n",
       "      <td>1.000000</td>\n",
       "      <td>153.000000</td>\n",
       "      <td>0.000000</td>\n",
       "      <td>0.800000</td>\n",
       "      <td>1.000000</td>\n",
       "      <td>0.000000</td>\n",
       "      <td>0.000000</td>\n",
       "      <td>0.000000</td>\n",
       "    </tr>\n",
       "    <tr>\n",
       "      <th>75%</th>\n",
       "      <td>61.000000</td>\n",
       "      <td>1.000000</td>\n",
       "      <td>3.000000</td>\n",
       "      <td>140.000000</td>\n",
       "      <td>276.000000</td>\n",
       "      <td>0.000000</td>\n",
       "      <td>2.000000</td>\n",
       "      <td>166.000000</td>\n",
       "      <td>1.000000</td>\n",
       "      <td>1.600000</td>\n",
       "      <td>1.000000</td>\n",
       "      <td>1.000000</td>\n",
       "      <td>2.000000</td>\n",
       "      <td>1.000000</td>\n",
       "    </tr>\n",
       "    <tr>\n",
       "      <th>max</th>\n",
       "      <td>77.000000</td>\n",
       "      <td>1.000000</td>\n",
       "      <td>3.000000</td>\n",
       "      <td>200.000000</td>\n",
       "      <td>564.000000</td>\n",
       "      <td>1.000000</td>\n",
       "      <td>2.000000</td>\n",
       "      <td>202.000000</td>\n",
       "      <td>1.000000</td>\n",
       "      <td>6.200000</td>\n",
       "      <td>2.000000</td>\n",
       "      <td>3.000000</td>\n",
       "      <td>2.000000</td>\n",
       "      <td>1.000000</td>\n",
       "    </tr>\n",
       "  </tbody>\n",
       "</table>\n",
       "</div>"
      ],
      "text/plain": [
       "              age         sex          cp    trestbps        chol         fbs  \\\n",
       "count  297.000000  297.000000  297.000000  297.000000  297.000000  297.000000   \n",
       "mean    54.542088    0.676768    2.158249  131.693603  247.350168    0.144781   \n",
       "std      9.049736    0.468500    0.964859   17.762806   51.997583    0.352474   \n",
       "min     29.000000    0.000000    0.000000   94.000000  126.000000    0.000000   \n",
       "25%     48.000000    0.000000    2.000000  120.000000  211.000000    0.000000   \n",
       "50%     56.000000    1.000000    2.000000  130.000000  243.000000    0.000000   \n",
       "75%     61.000000    1.000000    3.000000  140.000000  276.000000    0.000000   \n",
       "max     77.000000    1.000000    3.000000  200.000000  564.000000    1.000000   \n",
       "\n",
       "          restecg     thalach       exang     oldpeak       slope          ca  \\\n",
       "count  297.000000  297.000000  297.000000  297.000000  297.000000  297.000000   \n",
       "mean     0.996633  149.599327    0.326599    1.055556    0.602694    0.676768   \n",
       "std      0.994914   22.941562    0.469761    1.166123    0.618187    0.938965   \n",
       "min      0.000000   71.000000    0.000000    0.000000    0.000000    0.000000   \n",
       "25%      0.000000  133.000000    0.000000    0.000000    0.000000    0.000000   \n",
       "50%      1.000000  153.000000    0.000000    0.800000    1.000000    0.000000   \n",
       "75%      2.000000  166.000000    1.000000    1.600000    1.000000    1.000000   \n",
       "max      2.000000  202.000000    1.000000    6.200000    2.000000    3.000000   \n",
       "\n",
       "             thal   condition  \n",
       "count  297.000000  297.000000  \n",
       "mean     0.835017    0.461279  \n",
       "std      0.956690    0.499340  \n",
       "min      0.000000    0.000000  \n",
       "25%      0.000000    0.000000  \n",
       "50%      0.000000    0.000000  \n",
       "75%      2.000000    1.000000  \n",
       "max      2.000000    1.000000  "
      ]
     },
     "execution_count": 5,
     "metadata": {},
     "output_type": "execute_result"
    }
   ],
   "source": [
    "Datos.describe()"
   ]
  },
  {
   "cell_type": "code",
   "execution_count": 6,
   "id": "a1493c6a-dfbe-4b91-8f3e-b4311ffdc20d",
   "metadata": {},
   "outputs": [
    {
     "name": "stdout",
     "output_type": "stream",
     "text": [
      "Valores faltantes por columna:\n",
      " age          0\n",
      "sex          0\n",
      "cp           0\n",
      "trestbps     0\n",
      "chol         0\n",
      "fbs          0\n",
      "restecg      0\n",
      "thalach      0\n",
      "exang        0\n",
      "oldpeak      0\n",
      "slope        0\n",
      "ca           0\n",
      "thal         0\n",
      "condition    0\n",
      "dtype: int64\n"
     ]
    }
   ],
   "source": [
    "missing_values = Datos.isnull().sum()\n",
    "print(\"Valores faltantes por columna:\\n\", missing_values)"
   ]
  },
  {
   "cell_type": "code",
   "execution_count": 7,
   "id": "0cb62310-be83-4c4b-a8c1-bd2dc88083d9",
   "metadata": {},
   "outputs": [
    {
     "data": {
      "text/plain": [
       "(297, 14)"
      ]
     },
     "execution_count": 7,
     "metadata": {},
     "output_type": "execute_result"
    }
   ],
   "source": [
    "Datos.shape"
   ]
  },
  {
   "cell_type": "markdown",
   "id": "44a1411b-1314-45e3-9335-c2225d917381",
   "metadata": {},
   "source": [
    "**Se buscaron valores faltantes por columna, evidenciandose que a ninguna columna le faltan valores.**"
   ]
  },
  {
   "cell_type": "markdown",
   "id": "5d1891cc-d608-4926-a0e0-d4dfe7f8cc88",
   "metadata": {},
   "source": [
    "# Identificación de valores atípicos #"
   ]
  },
  {
   "cell_type": "code",
   "execution_count": 8,
   "id": "5b41f82b-fa67-466e-a51d-e794503bf796",
   "metadata": {},
   "outputs": [
    {
     "data": {
      "text/plain": [
       "Text(0.5, 1.0, 'Identificacion de Datos faltantes y Atípicos')"
      ]
     },
     "execution_count": 8,
     "metadata": {},
     "output_type": "execute_result"
    },
    {
     "data": {
      "image/png": "[encoded data removed]",
      "text/plain": [
       "<Figure size 600x300 with 1 Axes>"
      ]
     },
     "metadata": {},
     "output_type": "display_data"
    }
   ],
   "source": [
    "plt.figure(figsize=(6, 3))\n",
    "sns.boxplot(x=Datos['ca'])\n",
    "plt.title('Identificacion de Datos faltantes y Atípicos', fontsize=10)"
   ]
  },
  {
   "cell_type": "markdown",
   "id": "ee1d1a4d-c341-4ce7-ad93-10797fa22388",
   "metadata": {},
   "source": [
    "**Un registro con 3 vasos coloreados por fluoroscopia se considera normal**"
   ]
  },
  {
   "cell_type": "code",
   "execution_count": 9,
   "id": "3c2c5e05-883b-4940-8793-39251bee7983",
   "metadata": {},
   "outputs": [
    {
     "data": {
      "text/plain": [
       "Text(0.5, 1.0, 'Identificacion de Datos faltantes y Atípicos')"
      ]
     },
     "execution_count": 9,
     "metadata": {},
     "output_type": "execute_result"
    },
    {
     "data": {
      "image/png": "[encoded data removed]",
      "text/plain": [
       "<Figure size 600x300 with 1 Axes>"
      ]
     },
     "metadata": {},
     "output_type": "display_data"
    }
   ],
   "source": [
    "plt.figure(figsize=(6, 3))\n",
    "sns.boxplot(x=Datos['thalach'])\n",
    "plt.title('Identificacion de Datos faltantes y Atípicos', fontsize=10)"
   ]
  },
  {
   "cell_type": "markdown",
   "id": "b375e449-9185-491b-b759-86a0ff603f05",
   "metadata": {},
   "source": [
    "**Un valor de talach (frecuencia cardíaca máxima) por debajo de 80 bpm puede ser normal para un deportista o debido a alguna condición médica.**"
   ]
  },
  {
   "cell_type": "code",
   "execution_count": 10,
   "id": "a29f37b9-824d-4d5a-851b-74b0453ea1ac",
   "metadata": {},
   "outputs": [
    {
     "data": {
      "text/plain": [
       "Text(0.5, 1.0, 'Identificacion de Datos faltantes y Atípicos')"
      ]
     },
     "execution_count": 10,
     "metadata": {},
     "output_type": "execute_result"
    },
    {
     "data": {
      "image/png": "[encoded data removed]",
      "text/plain": [
       "<Figure size 600x300 with 1 Axes>"
      ]
     },
     "metadata": {},
     "output_type": "display_data"
    }
   ],
   "source": [
    "plt.figure(figsize=(6, 3))\n",
    "sns.boxplot(x=Datos['chol'])\n",
    "plt.title('Identificacion de Datos faltantes y Atípicos', fontsize=10)"
   ]
  },
  {
   "cell_type": "markdown",
   "id": "8bf0141c-dcc2-4116-9438-8ea046feb2ef",
   "metadata": {},
   "source": [
    "**Aunque es posible que algunas personas tengan valores tan altos debido a condiciones médicas o genéticas, retirar estos datos extremos puede ayudar al modelo a ser más preciso en la predicción de casos de salud. Por este motivo más adelante se establecerá un límite y se eliminarán regitros atípicos**"
   ]
  },
  {
   "cell_type": "code",
   "execution_count": 11,
   "id": "276f1c4a-615a-4a36-865a-322230ff24be",
   "metadata": {},
   "outputs": [
    {
     "data": {
      "text/plain": [
       "Text(0.5, 1.0, 'Identificacion de Datos faltantes y Atípicos')"
      ]
     },
     "execution_count": 11,
     "metadata": {},
     "output_type": "execute_result"
    },
    {
     "data": {
      "image/png": "[encoded data removed]",
      "text/plain": [
       "<Figure size 600x300 with 1 Axes>"
      ]
     },
     "metadata": {},
     "output_type": "display_data"
    }
   ],
   "source": [
    "plt.figure(figsize=(6, 3))\n",
    "sns.boxplot(x=Datos['trestbps'])\n",
    "plt.title('Identificacion de Datos faltantes y Atípicos', fontsize=10)"
   ]
  },
  {
   "cell_type": "markdown",
   "id": "6cf71895-4613-4a5b-9fb8-3b3975653834",
   "metadata": {},
   "source": [
    "**Una presión sanguínea en reposo superior a 170 es considerado peligroso y atípico, aunque se deben considerar casos existentes de hipertensión severa o situaciones médicas específicas que puedan justificar dicho valor. Más adelante se tomará en consideración si estos registros se tomarán en cuenta o no.**"
   ]
  },
  {
   "cell_type": "code",
   "execution_count": 12,
   "id": "aeb4e0b1-1f01-42cd-a7ee-a543a1620b51",
   "metadata": {},
   "outputs": [
    {
     "data": {
      "text/plain": [
       "Text(0.5, 1.0, 'Identificacion de Datos faltantes y Atípicos')"
      ]
     },
     "execution_count": 12,
     "metadata": {},
     "output_type": "execute_result"
    },
    {
     "data": {
      "image/png": "[encoded data removed]",
      "text/plain": [
       "<Figure size 600x300 with 1 Axes>"
      ]
     },
     "metadata": {},
     "output_type": "display_data"
    }
   ],
   "source": [
    "plt.figure(figsize=(6, 3))\n",
    "sns.boxplot(x=Datos['oldpeak'])\n",
    "plt.title('Identificacion de Datos faltantes y Atípicos', fontsize=10)"
   ]
  },
  {
   "cell_type": "markdown",
   "id": "dcf4d5ca-afaa-4ac3-8d34-7c73e831add3",
   "metadata": {},
   "source": [
    "**un registro de Oldpeak superior a 5 mm se considera atípico porque representa valores que están muy por encima de los rangos normales observados en la población general.**"
   ]
  },
  {
   "cell_type": "markdown",
   "id": "91ee9084-78f9-478d-a14a-4d898fdb1de6",
   "metadata": {},
   "source": [
    "# Conteo y eliminación de Datos atípicos #"
   ]
  },
  {
   "cell_type": "code",
   "execution_count": 16,
   "id": "7ff09c69-dc6c-4c67-bbbd-272820388aba",
   "metadata": {},
   "outputs": [
    {
     "name": "stdout",
     "output_type": "stream",
     "text": [
      "El total de datos atípicos es 2\n"
     ]
    }
   ],
   "source": [
    "# Conteo de valores Atípicos para la columna oldpeak\n",
    "nivel_minimo=0\n",
    "nivel_maximo=5\n",
    "Total_Atipicos=((Datos['oldpeak']<nivel_minimo)|(Datos['oldpeak']>nivel_maximo)).sum()\n",
    "print(\"El total de datos atípicos es {}\".format(Total_Atipicos))"
   ]
  },
  {
   "cell_type": "code",
   "execution_count": 17,
   "id": "32419067-6692-4207-a4cf-88d603af13b7",
   "metadata": {},
   "outputs": [
    {
     "data": {
      "text/plain": [
       "(297, 14)"
      ]
     },
     "execution_count": 17,
     "metadata": {},
     "output_type": "execute_result"
    }
   ],
   "source": [
    "Datos.shape"
   ]
  },
  {
   "cell_type": "code",
   "execution_count": 18,
   "id": "b9e6503a-2b57-43c2-b597-506db215cdb2",
   "metadata": {},
   "outputs": [],
   "source": [
    "# Eliminación de los valores encontrados \n",
    "Datos = Datos[(Datos['oldpeak'] >= nivel_minimo) & (Datos['oldpeak'] <= nivel_maximo)]\n"
   ]
  },
  {
   "cell_type": "code",
   "execution_count": 19,
   "id": "b3504fd2-13fe-4cdc-a3ea-61f7a0b6fc38",
   "metadata": {},
   "outputs": [
    {
     "data": {
      "text/plain": [
       "(295, 14)"
      ]
     },
     "execution_count": 19,
     "metadata": {},
     "output_type": "execute_result"
    }
   ],
   "source": [
    "Datos.shape"
   ]
  },
  {
   "cell_type": "markdown",
   "id": "de643918-d5c3-4791-9a56-8b3131bf5080",
   "metadata": {},
   "source": [
    "**Al establecer un límite en 5 mm para los registros de Oldpeak, se busca mejorar la precisión y la generalización del modelo al enfocarse en valores más representativos y comunes en la población.**"
   ]
  },
  {
   "cell_type": "code",
   "execution_count": 22,
   "id": "34e66976-a05c-4d37-8930-3cd15b61c5f7",
   "metadata": {},
   "outputs": [
    {
     "name": "stdout",
     "output_type": "stream",
     "text": [
      "El total de datos atípicos en 'chol' es 4\n"
     ]
    }
   ],
   "source": [
    "# Conteo de valores Atípicos para la columna chol\n",
    "nivel_minimo_chol = 0\n",
    "nivel_maximo_chol = 400\n",
    "Total_Atipicos_chol = ((Datos['chol'] < nivel_minimo_chol) | (Datos['chol'] > nivel_maximo_chol)).sum()\n",
    "print(\"El total de datos atípicos en 'chol' es {}\".format(Total_Atipicos_chol))"
   ]
  },
  {
   "cell_type": "code",
   "execution_count": 23,
   "id": "350c5b83-3f84-49d0-802b-5a77b4862277",
   "metadata": {},
   "outputs": [],
   "source": [
    "# Eliminación de los valores encontrados \n",
    "Datos = Datos[(Datos['chol'] >= nivel_minimo_chol) & (Datos['chol'] <= nivel_maximo_chol)]"
   ]
  },
  {
   "cell_type": "code",
   "execution_count": 25,
   "id": "0a168ae3-05db-4c4c-ad14-1a1930e15805",
   "metadata": {},
   "outputs": [
    {
     "data": {
      "text/plain": [
       "(291, 14)"
      ]
     },
     "execution_count": 25,
     "metadata": {},
     "output_type": "execute_result"
    }
   ],
   "source": [
    "Datos.shape"
   ]
  },
  {
   "cell_type": "code",
   "execution_count": 27,
   "id": "4018fb06-088d-4a83-892a-904609422433",
   "metadata": {},
   "outputs": [
    {
     "name": "stdout",
     "output_type": "stream",
     "text": [
      "<class 'pandas.core.frame.DataFrame'>\n",
      "Index: 291 entries, 0 to 296\n",
      "Data columns (total 14 columns):\n",
      " #   Column     Non-Null Count  Dtype  \n",
      "---  ------     --------------  -----  \n",
      " 0   age        291 non-null    int64  \n",
      " 1   sex        291 non-null    int64  \n",
      " 2   cp         291 non-null    int64  \n",
      " 3   trestbps   291 non-null    int64  \n",
      " 4   chol       291 non-null    int64  \n",
      " 5   fbs        291 non-null    int64  \n",
      " 6   restecg    291 non-null    int64  \n",
      " 7   thalach    291 non-null    int64  \n",
      " 8   exang      291 non-null    int64  \n",
      " 9   oldpeak    291 non-null    float64\n",
      " 10  slope      291 non-null    int64  \n",
      " 11  ca         291 non-null    int64  \n",
      " 12  thal       291 non-null    int64  \n",
      " 13  condition  291 non-null    int64  \n",
      "dtypes: float64(1), int64(13)\n",
      "memory usage: 34.1 KB\n"
     ]
    }
   ],
   "source": [
    "#Revisión del tipo de datos y datos faltantes \n",
    "Datos.info()"
   ]
  },
  {
   "cell_type": "markdown",
   "id": "ea392931-6bec-47f0-8105-3b3b51f88aa6",
   "metadata": {},
   "source": [
    "# Selección de características mas relevantes para entrenar el modelo #"
   ]
  },
  {
   "cell_type": "markdown",
   "id": "6d67c028-b0f1-419c-9eb5-740429d2ec16",
   "metadata": {},
   "source": [
    "### Interpretación de la columna 'condition':\r\n",
    "\r\n",
    "- **0**: Indica que el individuo no tiene una condición de enfermedad cardíaca.\r\n",
    "- **1**: Indica que el individuo sí tiene una condición de enfermedad cardíaca.\r\n"
   ]
  },
  {
   "cell_type": "code",
   "execution_count": 28,
   "id": "5aac4f4f-207a-4a28-ac52-8fda02e3c4fd",
   "metadata": {},
   "outputs": [
    {
     "data": {
      "text/plain": [
       "condition\n",
       "0    158\n",
       "1    133\n",
       "Name: count, dtype: int64"
      ]
     },
     "execution_count": 28,
     "metadata": {},
     "output_type": "execute_result"
    }
   ],
   "source": [
    "# Total de personas con enfermedad cardíaca\n",
    "\n",
    "Datos['condition'].value_counts()"
   ]
  },
  {
   "cell_type": "code",
   "execution_count": 29,
   "id": "90882fbf-a6fb-428d-a8ae-cb208fcc3769",
   "metadata": {},
   "outputs": [
    {
     "data": {
      "text/html": [
       "<div>\n",
       "<style scoped>\n",
       "    .dataframe tbody tr th:only-of-type {\n",
       "        vertical-align: middle;\n",
       "    }\n",
       "\n",
       "    .dataframe tbody tr th {\n",
       "        vertical-align: top;\n",
       "    }\n",
       "\n",
       "    .dataframe thead th {\n",
       "        text-align: right;\n",
       "    }\n",
       "</style>\n",
       "<table border=\"1\" class=\"dataframe\">\n",
       "  <thead>\n",
       "    <tr style=\"text-align: right;\">\n",
       "      <th></th>\n",
       "      <th>condition</th>\n",
       "    </tr>\n",
       "  </thead>\n",
       "  <tbody>\n",
       "    <tr>\n",
       "      <th>0</th>\n",
       "      <td>0</td>\n",
       "    </tr>\n",
       "    <tr>\n",
       "      <th>1</th>\n",
       "      <td>0</td>\n",
       "    </tr>\n",
       "    <tr>\n",
       "      <th>2</th>\n",
       "      <td>0</td>\n",
       "    </tr>\n",
       "    <tr>\n",
       "      <th>3</th>\n",
       "      <td>1</td>\n",
       "    </tr>\n",
       "    <tr>\n",
       "      <th>4</th>\n",
       "      <td>0</td>\n",
       "    </tr>\n",
       "    <tr>\n",
       "      <th>5</th>\n",
       "      <td>0</td>\n",
       "    </tr>\n",
       "    <tr>\n",
       "      <th>6</th>\n",
       "      <td>0</td>\n",
       "    </tr>\n",
       "    <tr>\n",
       "      <th>7</th>\n",
       "      <td>1</td>\n",
       "    </tr>\n",
       "    <tr>\n",
       "      <th>8</th>\n",
       "      <td>0</td>\n",
       "    </tr>\n",
       "    <tr>\n",
       "      <th>9</th>\n",
       "      <td>0</td>\n",
       "    </tr>\n",
       "    <tr>\n",
       "      <th>10</th>\n",
       "      <td>1</td>\n",
       "    </tr>\n",
       "    <tr>\n",
       "      <th>11</th>\n",
       "      <td>1</td>\n",
       "    </tr>\n",
       "    <tr>\n",
       "      <th>12</th>\n",
       "      <td>1</td>\n",
       "    </tr>\n",
       "    <tr>\n",
       "      <th>13</th>\n",
       "      <td>0</td>\n",
       "    </tr>\n",
       "    <tr>\n",
       "      <th>14</th>\n",
       "      <td>0</td>\n",
       "    </tr>\n",
       "  </tbody>\n",
       "</table>\n",
       "</div>"
      ],
      "text/plain": [
       "    condition\n",
       "0           0\n",
       "1           0\n",
       "2           0\n",
       "3           1\n",
       "4           0\n",
       "5           0\n",
       "6           0\n",
       "7           1\n",
       "8           0\n",
       "9           0\n",
       "10          1\n",
       "11          1\n",
       "12          1\n",
       "13          0\n",
       "14          0"
      ]
     },
     "execution_count": 29,
     "metadata": {},
     "output_type": "execute_result"
    }
   ],
   "source": [
    "Datos[['condition']].head(15)"
   ]
  },
  {
   "cell_type": "markdown",
   "id": "4bcdc3b3-ffdc-4aa9-b3e4-21553eb414f5",
   "metadata": {},
   "source": [
    "# Dividir el dataset en Train y Test para evaluar correctamente el modelo #"
   ]
  },
  {
   "cell_type": "code",
   "execution_count": 30,
   "id": "6de57699-8041-450a-9929-dc41ac1993e5",
   "metadata": {},
   "outputs": [],
   "source": [
    "# Porcentaje de datos para entrenamiento (train) = 75% , y para prueba (test) = 25%\n",
    "\n",
    "# Se crean variables X y Y para almacenar la información del entrenamiento\n",
    "\n",
    "X = Datos.drop('condition',axis=1) # Se cargan los datos de train sin los datos de la columna Diabetico \n",
    "Y = Datos['condition'] # Se cargan los datos de train con los datos de la la columna Diabetico\n",
    "\n",
    "#La función train_test_split crea una división de un conjunto de datos en dos bloques uno de entrenamiento y otro de prueba (train and test)\n",
    "X_train, X_test, Y_train, Y_test = train_test_split(X, Y, test_size=0.25, stratify=Y, random_state= 0)"
   ]
  },
  {
   "cell_type": "code",
   "execution_count": 31,
   "id": "8552a382-f1bd-4676-8fb0-2e401fb2f875",
   "metadata": {},
   "outputs": [
    {
     "name": "stdout",
     "output_type": "stream",
     "text": [
      "     age  sex  cp  trestbps  chol  fbs  restecg  thalach  exang  oldpeak  \\\n",
      "52    48    1   1       110   229    0        0      168      0      1.0   \n",
      "131   48    1   2       124   255    1        0      175      0      0.0   \n",
      "178   64    0   3       180   325    0        0      154      1      0.0   \n",
      "199   60    1   3       145   282    0        2      142      1      2.8   \n",
      "58    45    1   1       128   308    0        2      170      0      0.0   \n",
      "..   ...  ...  ..       ...   ...  ...      ...      ...    ...      ...   \n",
      "172   65    1   3       120   177    0        0      140      0      0.4   \n",
      "167   66    0   3       178   228    1        0      165      1      1.0   \n",
      "75    69    1   2       140   254    0        2      146      0      2.0   \n",
      "236   56    1   3       125   249    1        2      144      1      1.2   \n",
      "233   57    1   3       132   207    0        0      168      1      0.0   \n",
      "\n",
      "     slope  ca  thal  \n",
      "52       2   0     2  \n",
      "131      0   2     0  \n",
      "178      0   0     0  \n",
      "199      1   2     2  \n",
      "58       0   0     0  \n",
      "..     ...  ..   ...  \n",
      "172      0   0     2  \n",
      "167      1   2     2  \n",
      "75       1   3     2  \n",
      "236      1   1     0  \n",
      "233      0   0     2  \n",
      "\n",
      "[218 rows x 13 columns]\n"
     ]
    }
   ],
   "source": [
    "print (X_train)"
   ]
  },
  {
   "cell_type": "code",
   "execution_count": 34,
   "id": "a4fd4420-7492-45a5-aa0e-ff8cd203292c",
   "metadata": {},
   "outputs": [
    {
     "name": "stdout",
     "output_type": "stream",
     "text": [
      "52     1\n",
      "131    0\n",
      "178    0\n",
      "199    1\n",
      "58     0\n",
      "      ..\n",
      "172    0\n",
      "167    1\n",
      "75     1\n",
      "236    1\n",
      "233    0\n",
      "Name: condition, Length: 218, dtype: int64\n"
     ]
    }
   ],
   "source": [
    "print (Y_train)"
   ]
  },
  {
   "cell_type": "markdown",
   "id": "bb96fb1c-8cff-411d-ac68-ff26c6dc0d75",
   "metadata": {},
   "source": [
    "# Entrenar el modelo configurando los diferentes hiperparámetros #"
   ]
  },
  {
   "cell_type": "code",
   "execution_count": 35,
   "id": "2b5abe59-e898-40ea-bad4-3f66c3203a67",
   "metadata": {},
   "outputs": [],
   "source": [
    "# Construir el modelo de regresión logística\n",
    "modelo_regresion = LogisticRegression(solver = \"liblinear\") # liblinear es una libreria para resolver problemas lineales de clasificación y regresión\n",
    "modelo_regresion.fit (X_train , Y_train)   \n",
    "\n",
    "# Crea el modelo de prediccion\n",
    "Prediccion = modelo_regresion.predict(X_test) # la función predict predice los valores a partir del conjunto de datos de validación"
   ]
  },
  {
   "cell_type": "code",
   "execution_count": 38,
   "id": "af9dff56-3f44-42a1-b10f-05af02d5895c",
   "metadata": {},
   "outputs": [
    {
     "name": "stdout",
     "output_type": "stream",
     "text": [
      "113    0\n",
      "76     1\n",
      "51     0\n",
      "272    0\n",
      "39     0\n",
      "      ..\n",
      "150    0\n",
      "216    1\n",
      "139    0\n",
      "220    1\n",
      "214    1\n",
      "Name: condition, Length: 73, dtype: int64\n"
     ]
    }
   ],
   "source": [
    "print (Y_test)"
   ]
  },
  {
   "cell_type": "code",
   "execution_count": 37,
   "id": "ad582b63-a25d-4d08-94f2-e6782988929d",
   "metadata": {},
   "outputs": [
    {
     "name": "stdout",
     "output_type": "stream",
     "text": [
      "[0 1 0 0 0 0 1 1 1 0 0 0 0 0 0 0 1 0 1 0 0 1 1 0 1 1 0 1 1 1 1 0 0 0 0 1 0\n",
      " 0 0 1 0 0 1 1 0 0 0 0 0 0 0 0 1 1 0 0 0 0 1 0 0 0 1 0 0 1 0 0 0 1 0 1 1]\n"
     ]
    }
   ],
   "source": [
    "print (Prediccion)"
   ]
  },
  {
   "cell_type": "markdown",
   "id": "f340baa8-0f55-4d91-9f4f-226a8000e25c",
   "metadata": {},
   "source": [
    "# Evaluar el desmpeño del modelo en el conjunto de Test con métricas como precisión, recall, F1- score, etc. #"
   ]
  },
  {
   "cell_type": "code",
   "execution_count": 39,
   "id": "2a4486f1-e867-44d8-8e51-84d8a6bf8b9c",
   "metadata": {},
   "outputs": [
    {
     "name": "stdout",
     "output_type": "stream",
     "text": [
      "              precision    recall  f1-score   support\n",
      "\n",
      "           0       0.83      0.97      0.90        40\n",
      "           1       0.96      0.76      0.85        33\n",
      "\n",
      "    accuracy                           0.88        73\n",
      "   macro avg       0.90      0.87      0.87        73\n",
      "weighted avg       0.89      0.88      0.87        73\n",
      "\n"
     ]
    }
   ],
   "source": [
    "print(classification_report(Y_test,Prediccion))"
   ]
  },
  {
   "cell_type": "markdown",
   "id": "005dbe2f-edbf-4452-9d12-d4c99fc06d98",
   "metadata": {},
   "source": [
    "# Gráficas que permitan visualizar los resultados del modelo #"
   ]
  },
  {
   "cell_type": "code",
   "execution_count": 40,
   "id": "3a132975-4662-4d38-abc2-a3f333a5c7f5",
   "metadata": {},
   "outputs": [
    {
     "data": {
      "text/plain": [
       "<sklearn.metrics._plot.confusion_matrix.ConfusionMatrixDisplay at 0x1dd359a5dd0>"
      ]
     },
     "execution_count": 40,
     "metadata": {},
     "output_type": "execute_result"
    },
    {
     "data": {
      "image/png": "[encoded data removed]",
      "text/plain": [
       "<Figure size 640x480 with 2 Axes>"
      ]
     },
     "metadata": {},
     "output_type": "display_data"
    }
   ],
   "source": [
    "#Matrix de Confusión del modelo\n",
    "\n",
    "cm=confusion_matrix(Y_test,Prediccion)\n",
    "disp=metrics.ConfusionMatrixDisplay(confusion_matrix=cm)\n",
    "disp.plot()"
   ]
  },
  {
   "cell_type": "markdown",
   "id": "694c1597-ac7a-4907-9cc2-d25f093b6330",
   "metadata": {},
   "source": [
    "**El gráfico muestra que el modelo acertó en la predicción de 39 pacientes enfermos y 25 pacientes no enfermos, pero falló en 8 casos donde no detectó la enfermedad cardíaca y en 1 caso donde predijo erróneamente que un paciente estaba enfermo.**"
   ]
  },
  {
   "cell_type": "code",
   "execution_count": 41,
   "id": "2bf100b1-fd92-495e-8b07-4889f047a5fe",
   "metadata": {},
   "outputs": [
    {
     "data": {
      "image/png": "[encoded data removed]",
      "text/plain": [
       "<Figure size 640x480 with 1 Axes>"
      ]
     },
     "metadata": {},
     "output_type": "display_data"
    }
   ],
   "source": [
    "# Curva de precisón del modelo\n",
    "\n",
    "from sklearn.metrics import RocCurveDisplay\n",
    "RocCurveDisplay.from_predictions(Y_test, Prediccion)\n",
    "plt.show()"
   ]
  },
  {
   "cell_type": "markdown",
   "id": "b0a4b295-f79a-4bd1-a17a-e0146f5d7021",
   "metadata": {},
   "source": [
    "**En este caso específico, el área bajo la curva (AUC) del clasificador es de 0,87, lo que indica un buen rendimiento general. Un AUC de 1 representaría un clasificador perfecto, mientras que un AUC de 0,5 sería equivalente a una clasificación aleatoria.**"
   ]
  },
  {
   "cell_type": "markdown",
   "id": "c78f8be5-11e5-43bb-8eb6-559a87885a57",
   "metadata": {},
   "source": [
    "### Interpretación del Classification Report\r\n",
    "\r\n",
    "El modelo muestra un **accuracy del 88%**, indicando que el 88% de las predicciones en el conjunto de datos de prueba son correctas, evidenciando un rendimiento generalmente sólido.\r\n",
    "\r\n",
    "#### 0 (sin enfermedad cardiaca)\r\n",
    "Destaca con una **precisión del 83%** y un **recall del 97%**. Esto sugiere que el modelo es efectivo en identificar y clasificar individuos sin enfermedad cardiaca. El **F1-score de 0.90** confirma un buen equilibrio entre precisión y recall para esta categoría.\r\n",
    "\r\n",
    "#### 1 (con enfermedad cardiaca)\r\n",
    "Exhibe una **precisión del 96%** y un **recall del 76%**. Aunque la precisión es alta, el recall más bajo indica una oportunidad de mejora en la identificación de individuos con enfermedad cardiaca. El **F1-score de 0.85** subraya una armonización adecuada entre precisión y recall para esta clasificación.\r\n",
    "\r\n",
    "#### Métricas generales\r\n",
    "- **Macro avg**: Las métricas promedio para todas las clases se sitúan en el rango de 0.87-0.90. A pesar de que las clases menos representadas pueden influir en estas métricas, el modelo mantiene un buen desempeño general.\r\n",
    "\r\n",
    "- **Weighted avg**: Con métricas ponderadas por el número de muestras para cada clase entre el 87-89%, el modelo muestra un rendimiento equilibrado al considerar todas las categorías, incluso aquellas menos frecuentes.\r\n",
    "\r\n",
    "### Conclusión\r\n",
    "\r\n",
    "El modelo presenta un rendimiento robusto con un accuracy del 88%. Aunque existen áreas de mejora, como la identificación de individuos con enfermedad cardiaca, el modelo es eficaz en la predicción de las categorías más comunes. Considerando ajustes adicionales y técnicas para manejar el desequilibrio de clases, se podría optimizar aún más su rendimiento en las categorías menos representadas.\r\n"
   ]
  },
  {
   "cell_type": "code",
   "execution_count": null,
   "id": "1d2d98ab-cee4-4398-9fbe-e2ba095a1e8e",
   "metadata": {},
   "outputs": [],
   "source": []
  }
 ],
 "metadata": {
  "kernelspec": {
   "display_name": "Python 3 (ipykernel)",
   "language": "python",
   "name": "python3"
  },
  "language_info": {
   "codemirror_mode": {
    "name": "ipython",
    "version": 3
   },
   "file_extension": ".py",
   "mimetype": "text/x-python",
   "name": "python",
   "nbconvert_exporter": "python",
   "pygments_lexer": "ipython3",
   "version": "3.11.7"
  }
 },
 "nbformat": 4,
 "nbformat_minor": 5
}
